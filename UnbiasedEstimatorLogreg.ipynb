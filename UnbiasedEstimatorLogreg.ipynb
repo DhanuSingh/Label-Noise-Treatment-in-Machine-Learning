{
  "nbformat": 4,
  "nbformat_minor": 0,
  "metadata": {
    "colab": {
      "name": "UnbiasedEstimatorLogreg.ipynb",
      "version": "0.3.2",
      "provenance": [],
      "toc_visible": true
    },
    "kernelspec": {
      "name": "python3",
      "display_name": "Python 3"
    },
    "accelerator": "GPU"
  },
  "cells": [
    {
      "metadata": {
        "id": "iKqC7ZIzoISM",
        "colab_type": "code",
        "colab": {}
      },
      "cell_type": "code",
      "source": [
        "import numpy as np\n",
        "from sklearn.linear_model import LogisticRegression as logreg\n",
        "from sklearn.model_selection import train_test_split\n",
        "import sklearn as sk\n",
        "from sklearn.model_selection import KFold\n",
        "from sklearn.metrics import accuracy_score\n",
        "import time\n",
        "import statistics"
      ],
      "execution_count": 0,
      "outputs": []
    },
    {
      "metadata": {
        "id": "ushlONU050Fq",
        "colab_type": "text"
      },
      "cell_type": "markdown",
      "source": [
        "# Unbiased Estimator"
      ]
    },
    {
      "metadata": {
        "id": "t5uHpn4DoISP",
        "colab_type": "text"
      },
      "cell_type": "markdown",
      "source": [
        "### MNIST Dataset"
      ]
    },
    {
      "metadata": {
        "id": "XTP7vpij5hrI",
        "colab_type": "code",
        "colab": {}
      },
      "cell_type": "code",
      "source": [
        "dataset = np.load('mnist_dataset.npz')"
      ],
      "execution_count": 0,
      "outputs": []
    },
    {
      "metadata": {
        "id": "vci5BAmeoISZ",
        "colab_type": "code",
        "colab": {}
      },
      "cell_type": "code",
      "source": [
        "def loss_func_modif(S_train, rh0 = 0.2, rh1= 0.4):\n",
        "  alpha = float(1 - rh1 + rh0) / 2\n",
        "  sample_weight = np.ones(np.shape(S_train)) * (1 - alpha)\n",
        "  sample_weight[S_train==0] = alpha\n",
        "  sample_weight = np.ravel(sample_weight)\n",
        "  return sample_weight"
      ],
      "execution_count": 0,
      "outputs": []
    },
    {
      "metadata": {
        "id": "HGsS0SlRoISX",
        "colab_type": "code",
        "colab": {}
      },
      "cell_type": "code",
      "source": [
        "def Prepare_datset(dataset):\n",
        "    Xtr = dataset['Xtr']\n",
        "    Str = dataset['Str']\n",
        "    Xts = dataset['Xts']\n",
        "    Yts = dataset['Yts']\n",
        "    X_train= np.asarray(Xtr/255)\n",
        "    S_train = np.asarray(Str)\n",
        "    X_test= np.asarray(Xts/255)\n",
        "    Y_test = np.asarray(Yts)\n",
        "    S_train = np.ravel(S_train)\n",
        "    Y_test = np.ravel(Y_test)\n",
        "    return X_train, X_test, S_train, Y_test"
      ],
      "execution_count": 0,
      "outputs": []
    },
    {
      "metadata": {
        "id": "-Phk6Gly1oC4",
        "colab_type": "code",
        "colab": {}
      },
      "cell_type": "code",
      "source": [
        "def kfold_Model_fit(X_train, S_train, X_test, Y_test, clf, sample_weight_indic = False, kfold = 10):\n",
        "  start_time= time.time()\n",
        "  accuracy_val = np.zeros(kfold)\n",
        "  accuracy_test = np.zeros(kfold)\n",
        "  S_train = np.ravel(S_train)\n",
        "  for i in range(kfold):\n",
        "    X_t, X_v, S_t, S_v= train_test_split(X_train, S_train, test_size = 0.2)\n",
        "    if(sample_weight_indic == True):\n",
        "      sample_weight = loss_func_modif(S_t)\n",
        "    else:\n",
        "      sample_weight = None\n",
        "    clf.fit(X_t, S_t, sample_weight = sample_weight)\n",
        "    S_pred_val = clf.predict(X_v)\n",
        "    accuracy_val[i] = accuracy_score(S_v, S_pred_val)\n",
        "    Y_pred_test = clf.predict(X_test)\n",
        "    accuracy_test[i] = accuracy_score(Y_test, Y_pred_test)\n",
        "    i =i+ 1\n",
        "  print(\"Running time: \"+ str(int(time.time()-start_time))+\" seconds\")\n",
        "  return accuracy_val, accuracy_test"
      ],
      "execution_count": 0,
      "outputs": []
    },
    {
      "metadata": {
        "id": "nL5XxvZ36Cpy",
        "colab_type": "text"
      },
      "cell_type": "markdown",
      "source": [
        "### Baseline"
      ]
    },
    {
      "metadata": {
        "id": "mwv51qwCoISj",
        "colab_type": "code",
        "outputId": "6d17a772-a8c1-420c-be53-cc6a0dc9ebe9",
        "colab": {
          "base_uri": "https://localhost:8080/",
          "height": 51
        }
      },
      "cell_type": "code",
      "source": [
        "clf=logreg()\n",
        "X_train, X_test, S_train, Y_test = Prepare_datset(dataset)\n",
        "accuracy_val, accuracy_test = kfold_Model_fit(X_train, S_train, X_test, Y_test, clf, False, 10)\n",
        "print(np.mean(accuracy_val), np.mean(accuracy_test), statistics.stdev(accuracy_test))"
      ],
      "execution_count": 0,
      "outputs": [
        {
          "output_type": "stream",
          "text": [
            "Running time: 59 seconds\n",
            "0.6521 0.7918000000000001 0.005287301349039572\n"
          ],
          "name": "stdout"
        }
      ]
    },
    {
      "metadata": {
        "id": "iN3QVFCx6Jz4",
        "colab_type": "text"
      },
      "cell_type": "markdown",
      "source": [
        "### Using weighted loss function"
      ]
    },
    {
      "metadata": {
        "id": "LwG8I3Hx45TA",
        "colab_type": "code",
        "outputId": "bc60eaa3-d723-45e9-f84b-f9282387eff1",
        "colab": {
          "base_uri": "https://localhost:8080/",
          "height": 51
        }
      },
      "cell_type": "code",
      "source": [
        "clf=logreg()\n",
        "X_train, X_test, S_train, Y_test = Prepare_datset(dataset)\n",
        "accuracy_val, accuracy_test = kfold_Model_fit(X_train, S_train, X_test, Y_test, clf, True, 10)\n",
        "print(np.mean(accuracy_val), np.mean(accuracy_test), statistics.stdev(accuracy_test))"
      ],
      "execution_count": 0,
      "outputs": [
        {
          "output_type": "stream",
          "text": [
            "Running time: 51 seconds\n",
            "0.6607999999999999 0.8741 0.0057242175593408854\n"
          ],
          "name": "stdout"
        }
      ]
    },
    {
      "metadata": {
        "id": "AcyagwmnoISz",
        "colab_type": "text"
      },
      "cell_type": "markdown",
      "source": [
        "### CIFAR Dataset"
      ]
    },
    {
      "metadata": {
        "id": "BUSqjaXKoIS0",
        "colab_type": "code",
        "colab": {}
      },
      "cell_type": "code",
      "source": [
        "dataset = np.load('cifar_dataset.npz')"
      ],
      "execution_count": 0,
      "outputs": []
    },
    {
      "metadata": {
        "id": "6IPB9cD26jXA",
        "colab_type": "text"
      },
      "cell_type": "markdown",
      "source": [
        "### Baseline"
      ]
    },
    {
      "metadata": {
        "id": "WK83R2gX4_an",
        "colab_type": "code",
        "outputId": "38b4258c-6d78-4147-c8fd-795d274179b1",
        "colab": {
          "base_uri": "https://localhost:8080/",
          "height": 51
        }
      },
      "cell_type": "code",
      "source": [
        "clf=logreg()\n",
        "X_train, X_test, S_train, Y_test = Prepare_datset(dataset)\n",
        "accuracy_val, accuracy_test = kfold_Model_fit(X_train, S_train, X_test, Y_test, clf, False, 10)\n",
        "print(np.mean(accuracy_val), np.mean(accuracy_test), statistics.stdev(accuracy_test))"
      ],
      "execution_count": 0,
      "outputs": [
        {
          "output_type": "stream",
          "text": [
            "Running time: 892 seconds\n",
            "0.5974999999999999 0.6664999999999999 0.006123724356957949\n"
          ],
          "name": "stdout"
        }
      ]
    },
    {
      "metadata": {
        "id": "uowKHd2f6mpp",
        "colab_type": "text"
      },
      "cell_type": "markdown",
      "source": [
        "### Using weighted loss function"
      ]
    },
    {
      "metadata": {
        "id": "u45kEi4GoITK",
        "colab_type": "code",
        "outputId": "a1fde11c-c150-484d-955f-9240a1ec784a",
        "colab": {
          "base_uri": "https://localhost:8080/",
          "height": 51
        }
      },
      "cell_type": "code",
      "source": [
        "clf=logreg()\n",
        "X_train, X_test, S_train, Y_test = Prepare_datset(dataset)\n",
        "accuracy_val, accuracy_test = kfold_Model_fit(X_train, S_train, X_test, Y_test, clf, True, 10)\n",
        "print(np.mean(accuracy_val), np.mean(accuracy_test), statistics.stdev(accuracy_test))"
      ],
      "execution_count": 0,
      "outputs": [
        {
          "output_type": "stream",
          "text": [
            "Running time: 698 seconds\n",
            "0.5936999999999999 0.7048 0.005991660871578087\n"
          ],
          "name": "stdout"
        }
      ]
    }
  ]
}